{
 "cells": [
  {
   "cell_type": "code",
   "execution_count": 1,
   "id": "775846a6",
   "metadata": {},
   "outputs": [],
   "source": [
    "# Import the numpy library\n",
    "import numpy as np"
   ]
  },
  {
   "cell_type": "code",
   "execution_count": 2,
   "id": "8a76257b",
   "metadata": {},
   "outputs": [
    {
     "data": {
      "text/plain": [
       "array([85, 90, 88, 92, 95, 80, 75, 98, 89, 83])"
      ]
     },
     "execution_count": 2,
     "metadata": {},
     "output_type": "execute_result"
    }
   ],
   "source": [
    "# Create the \"grades\" array \n",
    "grades = np.array([85, 90, 88, 92, 95, 80, 75, 98, 89, 83])\n",
    "grades"
   ]
  },
  {
   "cell_type": "code",
   "execution_count": 3,
   "id": "ac9c1061",
   "metadata": {},
   "outputs": [
    {
     "name": "stdout",
     "output_type": "stream",
     "text": [
      "Mean: 87.5\n",
      "Median: 88.5\n",
      "Standard Deviation: 6.591661399070799\n"
     ]
    }
   ],
   "source": [
    "# Use numpy functions to calculate the mean, median, and standard deviation of the grades.\n",
    "\n",
    "# mean\n",
    "grade_mean = np.mean(grades)\n",
    "\n",
    "# median\n",
    "grade_median = np.median(grades)\n",
    "\n",
    "#standard deviation\n",
    "grade_std = np.std(grades)\n",
    "\n",
    "print(f\"Mean: {grade_mean}\\nMedian: {grade_median}\\nStandard Deviation: {grade_std}\")"
   ]
  },
  {
   "cell_type": "code",
   "execution_count": 4,
   "id": "1d0aa72a",
   "metadata": {},
   "outputs": [
    {
     "name": "stdout",
     "output_type": "stream",
     "text": [
      "Maximum Grade: 98\n",
      "Minimum Grade: 75\n"
     ]
    }
   ],
   "source": [
    "# Use numpy function to find the maximum and minimum of the grades.\n",
    "\n",
    "# maximum\n",
    "grade_max = np.max(grades)\n",
    "\n",
    "# minimum\n",
    "grade_min = np.min(grades)\n",
    "\n",
    "print(f\"Maximum Grade: {grade_max}\\nMinimum Grade: {grade_min}\")"
   ]
  },
  {
   "cell_type": "code",
   "execution_count": 5,
   "id": "2f3683e9",
   "metadata": {},
   "outputs": [
    {
     "data": {
      "text/plain": [
       "array([75, 80, 83, 85, 88, 89, 90, 92, 95, 98])"
      ]
     },
     "execution_count": 5,
     "metadata": {},
     "output_type": "execute_result"
    }
   ],
   "source": [
    "# Use numpy function to sort the grades in ascending order.\n",
    "grade_sort = np.sort(grades)\n",
    "grade_sort"
   ]
  },
  {
   "cell_type": "code",
   "execution_count": 6,
   "id": "5b67d09f",
   "metadata": {},
   "outputs": [
    {
     "data": {
      "text/plain": [
       "7"
      ]
     },
     "execution_count": 6,
     "metadata": {},
     "output_type": "execute_result"
    }
   ],
   "source": [
    "# Use numpy function to find the index of the highest grade in the array.\n",
    "max_index = np.argmax(grades)\n",
    "max_index"
   ]
  },
  {
   "cell_type": "code",
   "execution_count": 7,
   "id": "f0c815ab",
   "metadata": {},
   "outputs": [
    {
     "name": "stdout",
     "output_type": "stream",
     "text": [
      "The number of students that scored above 90 are: 3\n"
     ]
    }
   ],
   "source": [
    "# Use numpy function to count the number of students who scored above 90.\n",
    "grade_count = np.count_nonzero(grades > 90)\n",
    "print(f\"The number of students that scored above 90 are: {grade_count}\")"
   ]
  },
  {
   "cell_type": "code",
   "execution_count": 8,
   "id": "ca0c6e36",
   "metadata": {},
   "outputs": [
    {
     "name": "stdout",
     "output_type": "stream",
     "text": [
      "The percentage of students that scored above 90 are: 30%\n"
     ]
    }
   ],
   "source": [
    "# Use numpy function to calculate the percentage of students who scored above 90.\n",
    "len_scores = len(grades)\n",
    "\n",
    "student_perct = int(grade_count/len_scores * 100)\n",
    "\n",
    "print(f\"The percentage of students that scored above 90 are: {student_perct}%\")"
   ]
  },
  {
   "cell_type": "code",
   "execution_count": 9,
   "id": "d2c3763c",
   "metadata": {},
   "outputs": [
    {
     "name": "stdout",
     "output_type": "stream",
     "text": [
      "The percentage of students that scored below 75 is: 0%\n"
     ]
    }
   ],
   "source": [
    "# Use numpy function to calculate the percentage of students who scored below 75.\n",
    "student_75_score = np.count_nonzero(grades < 75)\n",
    "\n",
    "student_75_percent = int(student_75_score/len_scores * 100)\n",
    "\n",
    "print(f\"The percentage of students that scored below 75 is: {student_75_percent}%\")"
   ]
  },
  {
   "cell_type": "code",
   "execution_count": 10,
   "id": "70d7a89c",
   "metadata": {},
   "outputs": [
    {
     "data": {
      "text/plain": [
       "array([92, 95, 98])"
      ]
     },
     "execution_count": 10,
     "metadata": {},
     "output_type": "execute_result"
    }
   ],
   "source": [
    "# Use numpy function to extract all the grades above 90 and put them in a new array called \"high_performers\"\n",
    "high_performers = grades[grades > 90]\n",
    "high_performers"
   ]
  },
  {
   "cell_type": "code",
   "execution_count": 11,
   "id": "93bbc0a3",
   "metadata": {},
   "outputs": [
    {
     "data": {
      "text/plain": [
       "array([85, 90, 88, 92, 95, 80, 98, 89, 83])"
      ]
     },
     "execution_count": 11,
     "metadata": {},
     "output_type": "execute_result"
    }
   ],
   "source": [
    "# Create a new array called \"passing_grades\" that contains all the grades above 75.\n",
    "passing_grades = grades[grades > 75]\n",
    "passing_grades"
   ]
  }
 ],
 "metadata": {
  "kernelspec": {
   "display_name": "Python 3",
   "language": "python",
   "name": "python3"
  },
  "language_info": {
   "codemirror_mode": {
    "name": "ipython",
    "version": 3
   },
   "file_extension": ".py",
   "mimetype": "text/x-python",
   "name": "python",
   "nbconvert_exporter": "python",
   "pygments_lexer": "ipython3",
   "version": "3.8.8"
  }
 },
 "nbformat": 4,
 "nbformat_minor": 5
}
